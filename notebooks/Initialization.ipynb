{
 "cells": [
  {
   "cell_type": "code",
   "execution_count": 1,
   "metadata": {
    "collapsed": true
   },
   "outputs": [],
   "source": [
    "import autograd.numpy as np\n",
    "import matplotlib.pyplot as plt\n",
    "%matplotlib inline\n",
    "\n",
    "from ssmdm.models import Accumulator2D, DDM\n",
    "from ssmdm.misc import generate_clicks, factor_analysis\n",
    "\n",
    "# preprocessing\n",
    "from ssm.preprocessing import factor_analysis_with_imputation\n",
    "from tqdm.auto import trange\n",
    "\n",
    "# for initialization\n",
    "from ssm.optimizers import adam_step, rmsprop_step, sgd_step, convex_combination\n",
    "from autograd.scipy.misc import logsumexp\n",
    "from autograd.tracer import getval\n",
    "from autograd.misc import flatten\n",
    "from autograd import value_and_grad"
   ]
  },
  {
   "cell_type": "markdown",
   "metadata": {},
   "source": [
    "**Create model and generate data**"
   ]
  },
  {
   "cell_type": "code",
   "execution_count": 176,
   "metadata": {},
   "outputs": [],
   "source": [
    "from ssm.core import BaseHMM\n",
    "from ssm.transitions import RecurrentOnlyTransitions\n",
    "from ssm.init_state_distns import InitialStateDistribution\n",
    "from ssmdm.models import Accumulator2DObservations\n",
    "\n",
    "class Accumulator2DTransitions(RecurrentOnlyTransitions):\n",
    "    def __init__(self, K, D, M=0, scale=100):\n",
    "        assert K == 3\n",
    "        assert D == 2\n",
    "        assert M == 2\n",
    "        super(Accumulator2DTransitions, self).__init__(K, D, M)\n",
    "        \n",
    "        self.Ws = np.zeros((K,M))\n",
    "        self.Rs = np.array([[scale, 0], [0, 0], [0, scale]]).reshape((K,D)) # K by D\n",
    "#         self.Rs = np.array([[scale, -scale], [0, 0], [-scale, scale]]).reshape((K,D)) # K by D\n",
    "        self.r = np.array([-scale, 0, -scale])\n",
    "        \n",
    "    @property\n",
    "    def params(self):\n",
    "        return ()\n",
    "    \n",
    "    @params.setter\n",
    "    def params(self, value):\n",
    "        pass\n",
    "    \n",
    "    def initialize(self, datas, inputs=None, masks=None, tags=None):\n",
    "        pass\n",
    "    \n",
    "    def m_step(self, expectations, datas, inputs, masks, tags, **kwargs):\n",
    "        pass\n",
    "    \n",
    "def Accumulator2D(D=2, M=2, betas=np.ones(2,), sigmas=1e-3 * np.ones((3, 2)), a_diag=np.ones((3,2,1))):\n",
    "    K, D, M = 3, 2, 2\n",
    "    \n",
    "    # Build the initial state distribution, the transitions, and the observations\n",
    "    init_state_distn = InitialStateDistribution(K, D, M)\n",
    "    init_state_distn.log_pi0 = np.log([0.01, 0.98, 0.01])\n",
    "    transition_distn = Accumulator2DTransitions(K, D, M)\n",
    "    observation_distn = Accumulator2DObservations(K, D, M, betas=betas, sigmas=sigmas, a_diag=a_diag)\n",
    "    \n",
    "    return BaseHMM(K, D, M, init_state_distn, transition_distn, observation_distn)"
   ]
  },
  {
   "cell_type": "code",
   "execution_count": 177,
   "metadata": {},
   "outputs": [],
   "source": [
    "# create 2D accumulator\n",
    "\n",
    "# sigmas = np.array([[2e-4,1e-4],[3e-4,3e-4],[1e-4,2e-4]])\n",
    "sigmas = np.array([[1e-4,1e-4],[5e-4,5e-4],[1e-4,1e-4]])\n",
    "betas = np.array([1.0,1.0])\n",
    "a_diag = np.ones((3,2,1))\n",
    "acc2 = Accumulator2D(sigmas=sigmas,betas=betas,a_diag=a_diag)\n",
    "\n",
    "# Sample state trajectories\n",
    "T = 100 # number of time bins\n",
    "trial_time = 1.0 # trial length in seconds\n",
    "dt = 0.01 # bin size in seconds\n",
    "N_samples = 100 \n",
    "\n",
    "# input statistics\n",
    "total_rate = 40 # the sum of the right and left poisson process rates is 40\n",
    "\n",
    "us = []\n",
    "zs = []\n",
    "xs = []\n",
    "\n",
    "for smpl in range(N_samples):\n",
    "\n",
    "    # randomly draw right and left rates\n",
    "    rate_r = np.random.randint(0,total_rate+1)\n",
    "    rate_l = total_rate - rate_r\n",
    "\n",
    "    # generate binned right and left clicks\n",
    "    u_r, u_l = generate_clicks(T=trial_time,dt=dt,rate_r=rate_r,rate_l=rate_l)\n",
    "    \n",
    "    # input is sum of u_r and u_l\n",
    "    u = 0.1*np.array([u_r,u_l]).T\n",
    "    z, x = acc2.sample(T, input=u)\n",
    "    \n",
    "    us.append(u)\n",
    "    zs.append(z)\n",
    "    xs.append(x)"
   ]
  },
  {
   "cell_type": "code",
   "execution_count": 178,
   "metadata": {},
   "outputs": [],
   "source": [
    "# generate data\n",
    "N = 10\n",
    "D = 2\n",
    "C = np.random.randn(N, D)\n",
    "ys = [np.dot(x, C.T) +1.0 + .1 * np.random.randn(T, N) for x in xs]"
   ]
  },
  {
   "cell_type": "markdown",
   "metadata": {},
   "source": [
    "**Preprocess with factor analysis**"
   ]
  },
  {
   "cell_type": "code",
   "execution_count": 179,
   "metadata": {},
   "outputs": [
    {
     "name": "stderr",
     "output_type": "stream",
     "text": [
      "/Users/davidzoltowski/github/pybasicbayes/pybasicbayes/util/stats.py:184: RuntimeWarning: divide by zero encountered in true_divide\n",
      "  return 1./np.random.gamma(alpha, 1./beta)\n"
     ]
    },
    {
     "data": {
      "application/vnd.jupyter.widget-view+json": {
       "model_id": "33e63848386d4faa94309a60bd5b6b7a"
      }
     },
     "metadata": {},
     "output_type": "display_data"
    },
    {
     "name": "stdout",
     "output_type": "stream",
     "text": [
      "\n"
     ]
    }
   ],
   "source": [
    "# run factor analysis\n",
    "fa, xhats, Cov_xhats, lls = factor_analysis_with_imputation(D, ys, masks=None, num_iters=50)\n",
    "# Cfa, my_xhats, my_lls, psi = factor_analysis(D, ys, num_iters=50) # my FA code"
   ]
  },
  {
   "cell_type": "code",
   "execution_count": 180,
   "metadata": {},
   "outputs": [
    {
     "data": {
      "text/plain": [
       "[<matplotlib.lines.Line2D at 0x1a26573a20>,\n",
       " <matplotlib.lines.Line2D at 0x1a265a4a58>]"
      ]
     },
     "execution_count": 180,
     "metadata": {},
     "output_type": "execute_result"
    },
    {
     "data": {
      "image/png": "[encoded data removed]",
      "text/plain": [
       "<Figure size 432x288 with 1 Axes>"
      ]
     },
     "metadata": {},
     "output_type": "display_data"
    }
   ],
   "source": [
    "tr = 0\n",
    "# tr += 1\n",
    "plt.figure()\n",
    "plt.plot(xs[tr],color='b')\n",
    "plt.plot(xhats[tr],'r')"
   ]
  },
  {
   "cell_type": "markdown",
   "metadata": {},
   "source": [
    "**Optimize affine transformation of output latents x from factor analysis**\n",
    "\n",
    "$$ \n",
    "\\hat{R}, \\hat{r} = \\mathrm{argmax}_{R, r} \\log p( \\, R \\hat{x} + r \\, | \\, \\theta_\\text{AR-HMM})\n",
    "$$\n",
    "where $\\hat{x}$ are the expected values of the latents output from factor analysis and $\\theta_\\text{AR-HMM}$ are the prior parameters of the model of interest."
   ]
  },
  {
   "cell_type": "code",
   "execution_count": 181,
   "metadata": {
    "collapsed": true
   },
   "outputs": [],
   "source": [
    "# initialize \n",
    "R = 0.5*np.random.randn(2,2)\n",
    "r = 0.0*np.random.randn(2)\n",
    "params = [R,r]\n",
    "# params = [R]\n",
    "T = sum([x.shape[0] for x in xhats])"
   ]
  },
  {
   "cell_type": "code",
   "execution_count": 182,
   "metadata": {
    "collapsed": true
   },
   "outputs": [],
   "source": [
    "# define objective\n",
    "# sigmas = np.array([[1e-4,1e-4],[5e-4,5e-4],[1e-4,1e-4]])\n",
    "\n",
    "def objective(params, itr):\n",
    "    T = sum([x.shape[0] for x in xhats])\n",
    "    new_datas = [np.dot(x,params[0].T)+params[1] for x in xhats]\n",
    "#     new_datas = [np.dot(x,params[0].T) for x in xhats]\n",
    "    obj = Accumulator2D(sigmas = np.array([[1e-5,1e-5],[1e-3,1e-3],[1e-5,1e-5]])).log_likelihood(new_datas,inputs=us)\n",
    "    return -obj / T"
   ]
  },
  {
   "cell_type": "code",
   "execution_count": 183,
   "metadata": {},
   "outputs": [
    {
     "data": {
      "application/vnd.jupyter.widget-view+json": {
       "model_id": "8621a85fce8a453388f82e2cdb3c6955"
      }
     },
     "metadata": {},
     "output_type": "display_data"
    },
    {
     "name": "stderr",
     "output_type": "stream",
     "text": [
      "/Users/davidzoltowski/anaconda/lib/python3.6/site-packages/autograd/numpy/numpy_vjps.py:444: FutureWarning: Using a non-tuple sequence for multidimensional indexing is deprecated; use `arr[tuple(seq)]` instead of `arr[seq]`. In the future this will be interpreted as an array index, `arr[np.array(seq)]`, which will result either in an error or a different result.\n",
      "  return lambda g: g[idxs]\n"
     ]
    },
    {
     "name": "stdout",
     "output_type": "stream",
     "text": [
      "\n"
     ]
    }
   ],
   "source": [
    "# optimize marginal likelihood of p(Rx+r|theta_arhmm), with respect to R, r\n",
    "\n",
    "num_iters = 50\n",
    "state = None\n",
    "lls = [-objective(params, 0) * T]\n",
    "pbar = trange(num_iters)\n",
    "pbar.set_description(\"Epoch {} Itr {} LP: {:.1f}\".format(0, 0, lls[-1]))\n",
    "\n",
    "for itr in pbar:\n",
    "    params, val, g, state = sgd_step(value_and_grad(objective), params, itr, state)\n",
    "    lls.append(-val * T)\n",
    "    pbar.set_description(\"LP: {:.1f}\".format(lls[-1]))\n",
    "    pbar.update(1)"
   ]
  },
  {
   "cell_type": "code",
   "execution_count": 184,
   "metadata": {},
   "outputs": [
    {
     "name": "stdout",
     "output_type": "stream",
     "text": [
      "R =  [[ 0.05472646  0.17511818]\n",
      " [-0.2556941   0.05088802]]\n",
      "r =  [0.3153035  0.26639082]\n"
     ]
    }
   ],
   "source": [
    "R = params[0]\n",
    "r = params[1]\n",
    "# r = 0.0\n",
    "print(\"R = \", R)\n",
    "print(\"r = \", r)"
   ]
  },
  {
   "cell_type": "code",
   "execution_count": 189,
   "metadata": {},
   "outputs": [
    {
     "data": {
      "text/plain": [
       "Text(0,0.5,'x')"
      ]
     },
     "execution_count": 189,
     "metadata": {},
     "output_type": "execute_result"
    },
    {
     "data": {
      "image/png": "[encoded data removed]",
      "text/plain": [
       "<Figure size 432x288 with 1 Axes>"
      ]
     },
     "metadata": {},
     "output_type": "display_data"
    }
   ],
   "source": [
    "tr = 0\n",
    "# tr += 1\n",
    "plt.figure()\n",
    "lab1,_ = plt.plot(xs[tr],color='k')\n",
    "lab2,_ = plt.plot(xhats[tr],'r--')\n",
    "lab3,_ = plt.plot(xhats[tr].dot(R.T)+r,'b--')\n",
    "plt.legend([lab1,lab2,lab3],['True','FA','FA+Init'])\n",
    "plt.xlabel('time bin')\n",
    "plt.ylabel('x')\n",
    "# plt.savefig('example_trial.png')"
   ]
  },
  {
   "cell_type": "code",
   "execution_count": 186,
   "metadata": {},
   "outputs": [
    {
     "data": {
      "text/plain": [
       "[<matplotlib.lines.Line2D at 0x1a26707208>,\n",
       " <matplotlib.lines.Line2D at 0x1a269c7710>]"
      ]
     },
     "execution_count": 186,
     "metadata": {},
     "output_type": "execute_result"
    },
    {
     "data": {
      "image/png": "[encoded data removed]",
      "text/plain": [
       "<Figure size 432x288 with 1 Axes>"
      ]
     },
     "metadata": {},
     "output_type": "display_data"
    }
   ],
   "source": [
    "x_mean = np.mean(xs, axis=0)\n",
    "xhat_mean = np.mean(xhats, axis=0)\n",
    "x_trans = [np.dot(x,R.T)+r for x in xhats]\n",
    "xtrans_mean = np.mean(x_trans, axis=0)\n",
    "\n",
    "plt.figure()\n",
    "plt.plot(x_mean,color='k')\n",
    "plt.plot(xhat_mean,'r--')\n",
    "plt.plot(xtrans_mean,'b--')"
   ]
  },
  {
   "cell_type": "code",
   "execution_count": 187,
   "metadata": {},
   "outputs": [
    {
     "name": "stdout",
     "output_type": "stream",
     "text": [
      "0.6847155076672364\n",
      "0.5512012373633193\n"
     ]
    }
   ],
   "source": [
    "x_transformed1 = [ (np.dot(x,R.T)+r)[:,0] for x in xhats]\n",
    "x_transformed2 = [ (np.dot(x,R.T)+r)[:,1] for x in xhats]\n",
    "print(np.max(x_transformed1))\n",
    "print(np.max(x_transformed2))\n",
    "\n",
    "max_x1 = np.max(x_transformed1)\n",
    "max_x2 = np.max(x_transformed2)\n",
    "\n",
    "R_new = (R.T*np.array([1.25 / max_x1,1.25 / max_x2])).T\n",
    "r_new = r * np.array([1.25 / max_x1,1.25 / max_x2])"
   ]
  },
  {
   "cell_type": "code",
   "execution_count": 188,
   "metadata": {},
   "outputs": [],
   "source": [
    "R = (R.T*np.array([1.1 / max_x1,1.1 / max_x2])).T\n",
    "r = r * np.array([1.1 / max_x1,1.1 / max_x2])"
   ]
  },
  {
   "cell_type": "code",
   "execution_count": 165,
   "metadata": {},
   "outputs": [
    {
     "name": "stdout",
     "output_type": "stream",
     "text": [
      "1.1\n",
      "1.0999999999999999\n"
     ]
    }
   ],
   "source": [
    "print(np.max(x_transformed1))\n",
    "print(np.max(x_transformed2))"
   ]
  },
  {
   "cell_type": "code",
   "execution_count": null,
   "metadata": {
    "collapsed": true
   },
   "outputs": [],
   "source": [
    "plt.figure()\n",
    "plt.subplot(1,3,1)\n",
    "plt.imshow(C,aspect='auto')\n",
    "plt.title('True C')\n",
    "plt.clim([-2.5,2.5])\n",
    "plt.subplot(1,3,2)\n",
    "plt.imshow(fa.W,aspect='auto')\n",
    "plt.title('FA')\n",
    "plt.clim([-2.5,2.5])\n",
    "plt.subplot(1,3,3)\n",
    "plt.imshow(fa.W@np.linalg.inv(R),aspect='auto')\n",
    "plt.title('Fa+Init')\n",
    "plt.clim([-2.5,2.5])"
   ]
  },
  {
   "cell_type": "code",
   "execution_count": null,
   "metadata": {
    "collapsed": true
   },
   "outputs": [],
   "source": [
    "# compare neural activity and reconstructions\n",
    "tr = 0\n",
    "plt.figure()\n",
    "plt.plot(ys[tr],'k')\n",
    "plt.plot(xhats[tr]@ (fa.W).T + fa.mean,'r--')\n",
    "plt.plot(np.dot(x_trans[0], (fa.W@np.linalg.inv(R)).T) + fa.mean - fa.W @ np.linalg.inv(R) @ r,'b--')"
   ]
  }
 ],
 "metadata": {
  "kernelspec": {
   "display_name": "Python 3",
   "language": "python",
   "name": "python3"
  },
  "language_info": {
   "codemirror_mode": {
    "name": "ipython",
    "version": 3
   },
   "file_extension": ".py",
   "mimetype": "text/x-python",
   "name": "python",
   "nbconvert_exporter": "python",
   "pygments_lexer": "ipython3",
   "version": "3.6.6"
  }
 },
 "nbformat": 4,
 "nbformat_minor": 2
}
