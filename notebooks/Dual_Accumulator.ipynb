{
 "cells": [
  {
   "cell_type": "code",
   "execution_count": null,
   "metadata": {},
   "outputs": [],
   "source": [
    "import autograd.numpy as np\n",
    "import autograd.numpy.random as npr\n",
    "\n",
    "# Install package dependencies for rSLDS modeling\n",
    "!pip install git+git://github.com/slinderman/ssm.git#egg=ssm\n",
    "\n",
    "from ssmdm.accumulation import Accumulation, LatentAccumulation\n",
    "\n",
    "import copy\n",
    "import matplotlib.pyplot as plt\n",
    "%matplotlib inline\n",
    "import seaborn as sns\n",
    "sns.set_style(\"ticks\")\n",
    "sns.set_context(\"talk\")\n",
    "from ssmdm.misc import smooth, generate_clicks, generate_clicks_D\n",
    "from ssm.util import softplus\n",
    "from ssm.primitives import blocks_to_full\n",
    "npr.seed(1234)"
   ]
  },
  {
   "cell_type": "code",
   "execution_count": null,
   "metadata": {
    "collapsed": true
   },
   "outputs": [],
   "source": [
    "# 2D Accumulator with Poisson observations\n",
    "D = 2   # number of accumulation dimensions\n",
    "K = 3   # number of discrete states\n",
    "M = 2   # number of input dimensions\n",
    "N = 15  # number of observations\n",
    "bin_size = 0.01\n",
    "latent_acc = LatentAccumulation(N, K, D, M=M, \n",
    "                                transitions=\"race\", \n",
    "                                emissions=\"poisson\",\n",
    "                                emission_kwargs={\"bin_size\":bin_size})\n",
    "\n",
    "# set params\n",
    "betas = 0.05*np.ones((D,))\n",
    "sigmas = np.log(1e-3)*np.ones((D,))\n",
    "latent_acc.dynamics.params = (betas, sigmas, latent_acc.dynamics.params[2])\n",
    "latent_acc.emissions.Cs[0] = 4 * npr.randn(N,D) + npr.choice([-15,15],(N,D))\n",
    "latent_acc.emissions.ds[0] = 40 + 4.0 * npr.randn(N)"
   ]
  },
  {
   "cell_type": "code",
   "execution_count": null,
   "metadata": {
    "collapsed": true
   },
   "outputs": [],
   "source": [
    "# Sample state trajectories\n",
    "T = 100 # number of time bins\n",
    "trial_time = 1.0 # trial length in seconds\n",
    "dt = 0.01 # bin size in seconds\n",
    "N_samples = 250\n",
    "\n",
    "# input statistics\n",
    "total_rate = 40 # the sum of the right and left poisson process rates is 40\n",
    "\n",
    "us = []\n",
    "zs = []\n",
    "xs = []\n",
    "ys = []\n",
    "\n",
    "for smpl in range(N_samples):\n",
    "\n",
    "    # randomly draw right and left rates\n",
    "    rate_r = np.random.randint(0,total_rate+1)\n",
    "    rate_l = total_rate - rate_r\n",
    "    rates = [rate_r,rate_l]\n",
    "\n",
    "    # generate binned right and left clicks\n",
    "    u = generate_clicks_D(rates,T=trial_time,dt=dt)\n",
    "\n",
    "    # input is sum of u_r and u_l\n",
    "    u = 1.0*np.array(u).T\n",
    "    z, x, y = latent_acc.sample(T, input=u)\n",
    "\n",
    "    us.append(u)\n",
    "    zs.append(z)\n",
    "    xs.append(x)\n",
    "    ys.append(y)"
   ]
  },
  {
   "cell_type": "code",
   "execution_count": null,
   "metadata": {},
   "outputs": [],
   "source": [
    "# initialize test model\n",
    "test_acc = LatentAccumulation(N, K, D, M=M, \n",
    "                              transitions=\"race\", \n",
    "                              emissions=\"poisson\", \n",
    "                              emission_kwargs={\"bin_size\":bin_size})\n",
    "betas0 = 0.02+0.05*npr.rand()*np.ones((D,))\n",
    "sigmas0 = np.log((4e-5+2.5e-3*npr.rand()))*np.ones((D,))\n",
    "test_acc.dynamics.params = (betas0, sigmas0, test_acc.dynamics.params[2])\n",
    "\n",
    "# Initialize C, d\n",
    "u_sum = np.array([np.sum(u[:,0] - u[:,1]) for u in us])\n",
    "y_end = np.array([y[-10:] for y in ys])\n",
    "y_U = y_end[np.where(u_sum>=25)]\n",
    "y_L = y_end[np.where(u_sum<=-25)]\n",
    "C_init = np.hstack((np.mean(y_U,axis=(0,1))[:,None],np.mean(y_L,axis=(0,1))[:,None])) / bin_size - test_acc.emissions.ds.T\n",
    "\n",
    "test_acc.emissions.ds = (np.mean([y[0:3] for y in ys],axis=(0,1)) / bin_size).reshape((1,N))\n",
    "test_acc.emissions.Cs[0] = C_init"
   ]
  },
  {
   "cell_type": "code",
   "execution_count": null,
   "metadata": {},
   "outputs": [],
   "source": [
    "q_elbos, q_lem = test_acc.fit(ys, inputs=us, method=\"laplace_em\", \n",
    "                              variational_posterior=\"structured_meanfield\", \n",
    "                              num_iters=25, alpha=0.5, initialize=False, \n",
    "                              variational_posterior_kwargs={\"initial_variance\":1e-4})"
   ]
  },
  {
   "cell_type": "code",
   "execution_count": null,
   "metadata": {},
   "outputs": [],
   "source": [
    "plt.figure()\n",
    "plt.plot(q_elbos[1:])\n",
    "plt.xlabel(\"iteration\")\n",
    "plt.ylabel(\"ELBO\")\n",
    "plt.tight_layout()"
   ]
  },
  {
   "cell_type": "code",
   "execution_count": null,
   "metadata": {
    "collapsed": true
   },
   "outputs": [],
   "source": [
    "def plot_trial(tr=0,legend=False):\n",
    "\n",
    "    q_x = q_lem.mean_continuous_states[tr]\n",
    "    zhat = test_acc.most_likely_states(q_x, ys[tr], input=us[tr])\n",
    "    yhat = test_acc.smooth(q_x, ys[tr], input=us[tr])\n",
    "    zhat = test_acc.most_likely_states(q_x, ys[tr], input=us[tr])\n",
    "\n",
    "    J_diag = q_lem._params[tr][\"J_diag\"]\n",
    "    J_lower_diag= q_lem._params[tr][\"J_lower_diag\"]\n",
    "    J = blocks_to_full(J_diag, J_lower_diag)\n",
    "    Jinv = np.linalg.inv(J)\n",
    "    q_lem_std = np.sqrt(np.diag(Jinv))\n",
    "    q_lem_std = q_lem_std.reshape((T,D))\n",
    "    q_std_1 = q_lem_std[:,0]\n",
    "    q_std_2 = q_lem_std[:,1]\n",
    "    \n",
    "    f, (a0, a1, a2, a3) = plt.subplots(4, 1, gridspec_kw={'height_ratios': [1, 0.5, 3, 1]}, figsize=[8,8])\n",
    "    a0.imshow(np.row_stack((zs[tr], zhat)), aspect=\"auto\", vmin=0, vmax=2)\n",
    "    a0.set_xticks([])\n",
    "    a0.set_yticks([0, 1], [\"$z_{\\\\mathrm{true}}$\", \"$z_{\\\\mathrm{inf}}$\"])\n",
    "    a0.set_yticks([0,1])\n",
    "    a0.set_yticklabels([\"$z$\", \"$\\hat{z}$\"])\n",
    "    a0.set_title(\"discrete latent\")\n",
    "    \n",
    "    a1.plot(0.2*us[tr][:,0],color=[1.0,0.5,0.5], label=None,alpha=0.9)\n",
    "    a1.plot(0.2*us[tr][:,1],color=[0.5,0.5,1.0], label=None,alpha=0.9)\n",
    "    a1.set_yticks([])\n",
    "    a1.set_xticks([])\n",
    "    a1.axes.get_yaxis().set_visible(False)\n",
    "    a1.set_title(\"input\")\n",
    "    \n",
    "    a2.plot(xs[tr][:,0],color=[1.0,0.0,0.0],label=\"$x_1$\",alpha=0.9)\n",
    "    a2.plot(xs[tr][:,1],color=[0.0,0.0,1.0],label=\"$x_2$\",alpha=0.9)\n",
    "    a2.plot(q_x[:,0],color=[1.0,0.3,0.3],linestyle='--',label=\"$\\hat{x}_1$\",alpha=0.9)\n",
    "    a2.plot(q_x[:,1],color=[0.3,0.3,1.0],linestyle='--',label=\"$\\hat{x}_2$\",alpha=0.9)\n",
    "\n",
    "    a2.fill_between(np.arange(T),q_x[:,0]-q_std_1*2.0, q_x[:,0]+q_std_1*2.0, facecolor='r', alpha=0.3)\n",
    "    a2.fill_between(np.arange(T),q_x[:,1]-q_std_2*2.0, q_x[:,1]+q_std_2*2.0, facecolor='b', alpha=0.3)\n",
    "    a2.plot(np.array([0,100]),np.array([1,1]),'k--',linewidth=1.0,label=None)\n",
    "    a2.set_ylim([-0.5,1.4])\n",
    "    a2.set_xlim([-1,101])\n",
    "    a2.set_xticks([])\n",
    "    a2.set_yticks([0,1])\n",
    "    a2.set_title(\"continuous latent\")\n",
    "    if legend:\n",
    "        a2.legend()\n",
    "    sns.despine()\n",
    "    for n in range(10):\n",
    "        a3.eventplot(np.where(ys[tr][:,n]>0)[0], linelengths=0.5, lineoffsets=1+n,color='k')\n",
    "    sns.despine()\n",
    "    a3.set_yticks([])\n",
    "    a3.set_title(\"spikes\")\n",
    "    a3.set_xlim([-1,101])\n",
    "\n",
    "    plt.tight_layout()\n",
    "\n",
    "    return"
   ]
  },
  {
   "cell_type": "code",
   "execution_count": null,
   "metadata": {},
   "outputs": [],
   "source": [
    "tr = npr.randint(N_samples)\n",
    "plot_trial(tr=tr, legend=True)"
   ]
  },
  {
   "cell_type": "code",
   "execution_count": null,
   "metadata": {},
   "outputs": [],
   "source": [
    "plt.figure(figsize=[6,3])\n",
    "plt.subplot(121)\n",
    "plt.imshow(np.concatenate((latent_acc.emissions.Cs[0],test_acc.emissions.Cs[0,:,:]),axis=1),aspect='auto', cmap=\"inferno\")\n",
    "plt.xticks([0.5, 2.5], [\"$C_{\\\\mathrm{true}}$\", \"$C_{\\\\mathrm{inf}}$\"])\n",
    "plt.colorbar()\n",
    "\n",
    "plt.subplot(122)\n",
    "plt.imshow(np.concatenate((latent_acc.emissions.ds[0].reshape((N,1)),test_acc.emissions.ds.reshape((N,1))),axis=1),aspect='auto', cmap=\"inferno\")\n",
    "plt.xticks([0, 1], [\"$d_{\\\\mathrm{true}}$\", \"$d_{\\\\mathrm{inf}}$\"])\n",
    "plt.colorbar()\n",
    "plt.tight_layout()"
   ]
  }
 ],
 "metadata": {
  "kernelspec": {
   "display_name": "Python 3",
   "language": "python",
   "name": "python3"
  },
  "language_info": {
   "codemirror_mode": {
    "name": "ipython",
    "version": 3
   },
   "file_extension": ".py",
   "mimetype": "text/x-python",
   "name": "python",
   "nbconvert_exporter": "python",
   "pygments_lexer": "ipython3",
   "version": "3.7.4"
  }
 },
 "nbformat": 4,
 "nbformat_minor": 2
}
